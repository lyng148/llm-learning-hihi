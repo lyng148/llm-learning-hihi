{
 "cells": [
  {
   "metadata": {},
   "cell_type": "markdown",
   "source": "Code để kiểm tra, đọc và hiển thị count n-gram",
   "id": "38b2278228eb0b43"
  },
  {
   "metadata": {
    "ExecuteTime": {
     "end_time": "2025-02-16T17:36:08.164862Z",
     "start_time": "2025-02-16T17:36:08.158992Z"
    }
   },
   "cell_type": "code",
   "source": [
    "import numpy as np\n",
    "import pandas as pd\n",
    "\n",
    "n_grams_counts = {\n",
    "    (\"i\", \"am\", \"happy\") : 2,\n",
    "    (\"Linh\", \"is\", \"handsome\") : 1\n",
    "}\n",
    "\n",
    "# get count for n-gram tuple\n",
    "print(n_grams_counts[(\"i\", \"am\", \"happy\")])\n",
    "\n",
    "# update\n",
    "n_grams_counts[\"i\", \"am\", \"happy\"] = 1\n",
    "print(n_grams_counts[(\"i\", \"am\", \"happy\")])\n",
    "\n",
    "if ('i', 'am', 'hapy') in n_grams_counts:\n",
    "    print(\"Yes\")\n",
    "else:\n",
    "    print(\"No\")\n"
   ],
   "id": "21622968c7d0afb3",
   "outputs": [
    {
     "name": "stdout",
     "output_type": "stream",
     "text": [
      "2\n",
      "1\n",
      "No\n"
     ]
    }
   ],
   "execution_count": 6
  },
  {
   "metadata": {},
   "cell_type": "markdown",
   "source": "merge 2 tuple to make one tuple when merge (n - 1) gram prefix with the last word",
   "id": "d0cb738a92fd5053"
  },
  {
   "cell_type": "code",
   "id": "initial_id",
   "metadata": {
    "collapsed": true,
    "ExecuteTime": {
     "end_time": "2025-02-16T19:07:11.445418Z",
     "start_time": "2025-02-16T19:07:11.439142Z"
    }
   },
   "source": [
    "prefix = (\"i\", 'am')\n",
    "word = ('linh')\n",
    "\"\"\"\n",
    "bien tu 1 string thanh tuple bang (string, )\n",
    "\"\"\"\n",
    "sentence = prefix + (word, )\n",
    "print(sentence)"
   ],
   "outputs": [
    {
     "name": "stdout",
     "output_type": "stream",
     "text": [
      "('i', 'am', 'linh')\n"
     ]
    }
   ],
   "execution_count": 15
  },
  {
   "metadata": {},
   "cell_type": "markdown",
   "source": "",
   "id": "d12a93ae82b6dea3"
  },
  {
   "metadata": {
    "ExecuteTime": {
     "end_time": "2025-02-16T19:15:00.552988Z",
     "start_time": "2025-02-16T19:15:00.541668Z"
    }
   },
   "cell_type": "code",
   "source": [
    "trigram = ('i', 'am', 'happy', 'too')\n",
    "bigram = trigram[0 : -1] #như này thì 1000 gram cũng lấy đc hay vãi\n",
    "print(bigram)  # ('i', 'am')\n",
    "\n",
    "# Tương đương với:\n",
    "bigram = trigram[:2]\n",
    "print(bigram)  # ('i', 'am')"
   ],
   "id": "7822b408ab2f0ac2",
   "outputs": [
    {
     "name": "stdout",
     "output_type": "stream",
     "text": [
      "('i', 'am', 'happy')\n",
      "('i', 'am')\n"
     ]
    }
   ],
   "execution_count": 16
  },
  {
   "metadata": {},
   "cell_type": "markdown",
   "source": "",
   "id": "970259d6ab443904"
  },
  {
   "metadata": {
    "ExecuteTime": {
     "end_time": "2025-02-17T12:29:57.920831Z",
     "start_time": "2025-02-17T12:29:57.909852Z"
    }
   },
   "cell_type": "code",
   "source": [
    "from collections import defaultdict\n",
    "import numpy as np\n",
    "import pandas as pd\n",
    "\n",
    "\n",
    "def triagrams_count_matrix(corpus):\n",
    "    bigrams = []\n",
    "    unigram = []\n",
    "    count_matrix_dict = defaultdict(int)\n",
    "\n",
    "    for i in range(len(corpus) - 3 + 1):\n",
    "        trigram = corpus[i : i + 3]\n",
    "        # Chuyển bigram thành tuple\n",
    "        bigram = tuple(trigram[:-1])\n",
    "        last_word = trigram[-1]\n",
    "\n",
    "        if last_word not in unigram:\n",
    "            unigram.append(last_word)\n",
    "\n",
    "        if bigram not in bigrams:\n",
    "            bigrams.append(bigram)\n",
    "\n",
    "        count_matrix_dict[(bigram, last_word)] += 1\n",
    "\n",
    "    count_matrix = np.zeros((len(bigrams), len(unigram)))\n",
    "    for trigram_key, trigram_count in count_matrix_dict.items():\n",
    "        count_matrix[bigrams.index(trigram_key[0]), unigram.index(trigram_key[1])] = trigram_count\n",
    "    count_matrix = pd.DataFrame(count_matrix, index=bigrams, columns=unigram)\n",
    "    print(count_matrix)\n",
    "    return count_matrix\n",
    "\n",
    "\n",
    "\n",
    "\n",
    "corpus = ['i', 'am', 'happy', 'because', 'i', 'am', 'learning', '.']\n",
    "count_matrix = triagrams_count_matrix(corpus)\n",
    "\n",
    "\n"
   ],
   "id": "96458c0442e6c4eb",
   "outputs": [
    {
     "name": "stdout",
     "output_type": "stream",
     "text": [
      "                  happy  because    i   am  learning    .\n",
      "(i, am)             1.0      0.0  0.0  0.0       1.0  0.0\n",
      "(am, happy)         0.0      1.0  0.0  0.0       0.0  0.0\n",
      "(happy, because)    0.0      0.0  1.0  0.0       0.0  0.0\n",
      "(because, i)        0.0      0.0  0.0  1.0       0.0  0.0\n",
      "(am, learning)      0.0      0.0  0.0  0.0       0.0  1.0\n"
     ]
    }
   ],
   "execution_count": 39
  },
  {
   "metadata": {},
   "cell_type": "markdown",
   "source": "Probability Matrix",
   "id": "746dae239d682564"
  },
  {
   "metadata": {
    "ExecuteTime": {
     "end_time": "2025-02-17T12:34:02.499846Z",
     "start_time": "2025-02-17T12:34:02.488968Z"
    }
   },
   "cell_type": "code",
   "source": [
    "# Tao mot ma tran voi tong theo hang ngang cua count_matrix\n",
    "row_sum = count_matrix.sum(axis=1)\n",
    "print(row_sum)\n",
    "# chia\n",
    "prob_matrix = count_matrix.div(row_sum, axis=0)\n",
    "print(prob_matrix)"
   ],
   "id": "3e260d06bf4e6f00",
   "outputs": [
    {
     "name": "stdout",
     "output_type": "stream",
     "text": [
      "(i, am)             2.0\n",
      "(am, happy)         1.0\n",
      "(happy, because)    1.0\n",
      "(because, i)        1.0\n",
      "(am, learning)      1.0\n",
      "dtype: float64\n",
      "                  happy  because    i   am  learning    .\n",
      "(i, am)             0.5      0.0  0.0  0.0       0.5  0.0\n",
      "(am, happy)         0.0      1.0  0.0  0.0       0.0  0.0\n",
      "(happy, because)    0.0      0.0  1.0  0.0       0.0  0.0\n",
      "(because, i)        0.0      0.0  0.0  1.0       0.0  0.0\n",
      "(am, learning)      0.0      0.0  0.0  0.0       0.0  1.0\n"
     ]
    }
   ],
   "execution_count": 43
  }
 ],
 "metadata": {
  "kernelspec": {
   "display_name": "Python 3",
   "language": "python",
   "name": "python3"
  },
  "language_info": {
   "codemirror_mode": {
    "name": "ipython",
    "version": 2
   },
   "file_extension": ".py",
   "mimetype": "text/x-python",
   "name": "python",
   "nbconvert_exporter": "python",
   "pygments_lexer": "ipython2",
   "version": "2.7.6"
  }
 },
 "nbformat": 4,
 "nbformat_minor": 5
}
