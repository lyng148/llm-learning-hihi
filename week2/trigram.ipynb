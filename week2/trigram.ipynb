{
 "cells": [
  {
   "metadata": {},
   "cell_type": "markdown",
   "source": "Tokenize corpus",
   "id": "a361ac04b60e1d4e"
  },
  {
   "metadata": {
    "ExecuteTime": {
     "end_time": "2025-02-17T12:56:09.618570Z",
     "start_time": "2025-02-17T12:56:08.429866Z"
    }
   },
   "cell_type": "code",
   "source": [
    "import spacy\n",
    "\n",
    "nlp = spacy.load('en_core_web_sm')\n",
    "\n",
    "# Sample text\n",
    "f = open('./textdata.txt', 'r')\n",
    "text = f.read()\n",
    "f.close()\n",
    "\n",
    "doc = nlp(text)\n",
    "# tokenize text\n",
    "corpus = [token.text for token in doc]"
   ],
   "id": "a1f1bb0a8d4e5591",
   "outputs": [],
   "execution_count": 14
  },
  {
   "metadata": {},
   "cell_type": "markdown",
   "source": "Create Count Matrix",
   "id": "7723b5306c745c81"
  },
  {
   "metadata": {
    "ExecuteTime": {
     "end_time": "2025-02-17T12:56:12.985994Z",
     "start_time": "2025-02-17T12:56:12.977620Z"
    }
   },
   "cell_type": "code",
   "source": [
    "from collections import defaultdict\n",
    "import numpy as np\n",
    "import pandas as pd\n",
    "\n",
    "\n",
    "def triagrams_count_matrix(corpus):\n",
    "    bigrams = []\n",
    "    unigram = []\n",
    "    count_matrix_dict = defaultdict(int)\n",
    "\n",
    "    for i in range(len(corpus) - 3 + 1):\n",
    "        trigram = corpus[i : i + 3]\n",
    "        # Chuyển bigram thành tuple\n",
    "        bigram = tuple(trigram[:-1])\n",
    "        last_word = trigram[-1]\n",
    "\n",
    "        if last_word not in unigram:\n",
    "            unigram.append(last_word)\n",
    "\n",
    "        if bigram not in bigrams:\n",
    "            bigrams.append(bigram)\n",
    "\n",
    "        count_matrix_dict[(bigram, last_word)] += 1\n",
    "\n",
    "    count_matrix = np.zeros((len(bigrams), len(unigram)))\n",
    "    for trigram_key, trigram_count in count_matrix_dict.items():\n",
    "        count_matrix[bigrams.index(trigram_key[0]), unigram.index(trigram_key[1])] = trigram_count\n",
    "    count_matrix = pd.DataFrame(count_matrix, index=bigrams, columns=unigram)\n",
    "    return count_matrix\n",
    "\n",
    "count_matrix = triagrams_count_matrix(corpus)"
   ],
   "id": "8cd4e69496a98226",
   "outputs": [],
   "execution_count": 17
  },
  {
   "metadata": {},
   "cell_type": "markdown",
   "source": "Create Probability Matrix",
   "id": "1dec4fc2c0e143d1"
  },
  {
   "metadata": {
    "ExecuteTime": {
     "end_time": "2025-02-17T12:56:15.224372Z",
     "start_time": "2025-02-17T12:56:15.178582Z"
    }
   },
   "cell_type": "code",
   "source": [
    "# Tao mot ma tran voi tong theo hang ngang cua count_matrix\n",
    "row_sum = count_matrix.sum(axis=1)\n",
    "# chia\n",
    "prob_matrix = count_matrix.div(row_sum, axis=0)\n",
    "print(prob_matrix)"
   ],
   "id": "1d257a2858afb270",
   "outputs": [
    {
     "name": "stdout",
     "output_type": "stream",
     "text": [
      "                            learning   English    ,   am  Japanese    .  From  \\\n",
      "(I, am)                          1.0  0.000000  0.0  0.0  0.000000  0.0   0.0   \n",
      "(am, learning)                   0.0  0.666667  0.0  0.0  0.333333  0.0   0.0   \n",
      "(learning, English)              0.0  0.000000  1.0  0.0  0.000000  0.0   0.0   \n",
      "(English, ,)                     0.0  0.000000  0.0  1.0  0.000000  0.0   0.0   \n",
      "(,, am)                          1.0  0.000000  0.0  0.0  0.000000  0.0   0.0   \n",
      "...                              ...       ...  ...  ...       ...  ...   ...   \n",
      "(began, arresting)               0.0  0.000000  0.0  0.0  0.000000  0.0   0.0   \n",
      "(arresting, demonstrators)       0.0  0.000000  0.0  0.0  0.000000  0.0   0.0   \n",
      "(demonstrators, and)             0.0  0.000000  0.0  0.0  0.000000  0.0   0.0   \n",
      "(and, banning)                   0.0  0.000000  0.0  0.0  0.000000  0.0   0.0   \n",
      "(banning, the)                   0.0  0.000000  0.0  0.0  0.000000  0.0   0.0   \n",
      "\n",
      "                            August   to  September  ...  several  later  \\\n",
      "(I, am)                        0.0  0.0        0.0  ...      0.0    0.0   \n",
      "(am, learning)                 0.0  0.0        0.0  ...      0.0    0.0   \n",
      "(learning, English)            0.0  0.0        0.0  ...      0.0    0.0   \n",
      "(English, ,)                   0.0  0.0        0.0  ...      0.0    0.0   \n",
      "(,, am)                        0.0  0.0        0.0  ...      0.0    0.0   \n",
      "...                            ...  ...        ...  ...      ...    ...   \n",
      "(began, arresting)             0.0  0.0        0.0  ...      0.0    0.0   \n",
      "(arresting, demonstrators)     0.0  0.0        0.0  ...      0.0    0.0   \n",
      "(demonstrators, and)           0.0  0.0        0.0  ...      0.0    0.0   \n",
      "(and, banning)                 0.0  0.0        0.0  ...      0.0    0.0   \n",
      "(banning, the)                 0.0  0.0        0.0  ...      0.0    0.0   \n",
      "\n",
      "                            became  violent  local  authorities  began  \\\n",
      "(I, am)                        0.0      0.0    0.0          0.0    0.0   \n",
      "(am, learning)                 0.0      0.0    0.0          0.0    0.0   \n",
      "(learning, English)            0.0      0.0    0.0          0.0    0.0   \n",
      "(English, ,)                   0.0      0.0    0.0          0.0    0.0   \n",
      "(,, am)                        0.0      0.0    0.0          0.0    0.0   \n",
      "...                            ...      ...    ...          ...    ...   \n",
      "(began, arresting)             0.0      0.0    0.0          0.0    0.0   \n",
      "(arresting, demonstrators)     0.0      0.0    0.0          0.0    0.0   \n",
      "(demonstrators, and)           0.0      0.0    0.0          0.0    0.0   \n",
      "(and, banning)                 0.0      0.0    0.0          0.0    0.0   \n",
      "(banning, the)                 0.0      0.0    0.0          0.0    0.0   \n",
      "\n",
      "                            arresting  demonstrators  banning  \n",
      "(I, am)                           0.0            0.0      0.0  \n",
      "(am, learning)                    0.0            0.0      0.0  \n",
      "(learning, English)               0.0            0.0      0.0  \n",
      "(English, ,)                      0.0            0.0      0.0  \n",
      "(,, am)                           0.0            0.0      0.0  \n",
      "...                               ...            ...      ...  \n",
      "(began, arresting)                0.0            1.0      0.0  \n",
      "(arresting, demonstrators)        0.0            0.0      0.0  \n",
      "(demonstrators, and)              0.0            0.0      1.0  \n",
      "(and, banning)                    0.0            0.0      0.0  \n",
      "(banning, the)                    0.0            0.0      0.0  \n",
      "\n",
      "[110 rows x 78 columns]\n"
     ]
    }
   ],
   "execution_count": 18
  },
  {
   "metadata": {},
   "cell_type": "markdown",
   "source": "Given two previous word, predict next word",
   "id": "84bbb32375ed305"
  },
  {
   "metadata": {
    "ExecuteTime": {
     "end_time": "2025-02-17T13:08:48.934343Z",
     "start_time": "2025-02-17T13:08:48.927518Z"
    }
   },
   "cell_type": "code",
   "source": [
    "prefix_word = ('am', 'learning')\n",
    "mask = prob_matrix.index == prefix_word\n",
    "best = 0\n",
    "next_word = ''\n",
    "if mask.any():\n",
    "    row = prob_matrix[mask].iloc[0]\n",
    "    for column, value in row.items():\n",
    "        if value > 0:\n",
    "            if value > best:\n",
    "                best = value\n",
    "                next_word = column\n",
    "            print(f\"word: {column}, Probability: {value}\")\n",
    "else:\n",
    "    print(\"Not found\")\n",
    "print(f\"Next word: {next_word}, Probability: {best}\")\n"
   ],
   "id": "77202c756a03f9f6",
   "outputs": [
    {
     "name": "stdout",
     "output_type": "stream",
     "text": [
      "word: English, Probability: 0.6666666666666666\n",
      "word: Japanese, Probability: 0.3333333333333333\n",
      "Next word: English, Probability: 0.6666666666666666\n"
     ]
    }
   ],
   "execution_count": 38
  },
  {
   "metadata": {},
   "cell_type": "markdown",
   "source": "Visualize",
   "id": "c024b66daaefc401"
  },
  {
   "metadata": {
    "ExecuteTime": {
     "end_time": "2025-02-17T13:09:24.379782Z",
     "start_time": "2025-02-17T13:09:23.467702Z"
    }
   },
   "cell_type": "code",
   "source": [
    "import matplotlib.pyplot as plt\n",
    "import seaborn as sns\n",
    "\n",
    "prefix_word = ('am', 'learning')\n",
    "mask = prob_matrix.index == prefix_word\n",
    "if mask.any():\n",
    "    row = prob_matrix[mask].iloc[0]\n",
    "    # Filter only non-zero probabilities\n",
    "    non_zero_probs = row[row > 0]\n",
    "\n",
    "    # Create bar plot\n",
    "    plt.figure(figsize=(10, 5))\n",
    "    sns.barplot(x=non_zero_probs.index, y=non_zero_probs.values)\n",
    "    plt.title(f'Next Word Probabilities after \"{prefix_word[0]} {prefix_word[1]}\"')\n",
    "    plt.xlabel('Next Word')\n",
    "    plt.ylabel('Probability')\n",
    "    plt.xticks(rotation=45)\n",
    "    plt.tight_layout()\n",
    "    plt.show()\n",
    "else:\n",
    "    print(\"Not found\")"
   ],
   "id": "b9afbbc0ff508fe2",
   "outputs": [
    {
     "data": {
      "text/plain": [
       "<Figure size 1000x500 with 1 Axes>"
      ],
      "image/png": "[encoded data removed]"
     },
     "metadata": {},
     "output_type": "display_data"
    }
   ],
   "execution_count": 39
  }
 ],
 "metadata": {
  "kernelspec": {
   "name": "python3",
   "language": "python",
   "display_name": "Python 3 (ipykernel)"
  }
 },
 "nbformat": 5,
 "nbformat_minor": 9
}
